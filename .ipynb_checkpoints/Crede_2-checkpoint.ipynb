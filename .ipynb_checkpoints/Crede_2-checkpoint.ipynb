{
 "cells": [
  {
   "cell_type": "code",
   "execution_count": null,
   "id": "b95146df-85e0-4a1e-a2b8-805dd5f4d60e",
   "metadata": {},
   "outputs": [],
   "source": [
    "import pandas as pd\n",
    "import numpy as np"
   ]
  },
  {
   "cell_type": "code",
   "execution_count": null,
   "id": "66490817-c02e-4424-a44e-3fe73dc546b7",
   "metadata": {},
   "outputs": [],
   "source": [
    "df = pd.read_csv(\"D:\\Downloads\\creditcard.csv.zip\")"
   ]
  },
  {
   "cell_type": "code",
   "execution_count": null,
   "id": "191fccaf-26f5-428d-bef6-5941ab76228e",
   "metadata": {},
   "outputs": [],
   "source": [
    "df.head()"
   ]
  },
  {
   "cell_type": "code",
   "execution_count": null,
   "id": "1416d936-1a42-4c2f-a36f-926717464de0",
   "metadata": {},
   "outputs": [],
   "source": [
    "from sklearn.model_selection import train_test_split"
   ]
  },
  {
   "cell_type": "code",
   "execution_count": null,
   "id": "fb1a3cd1-7bc3-44c0-895b-8cbc5513cd69",
   "metadata": {},
   "outputs": [],
   "source": [
    "X = df.drop('Class',axis = 1)\n",
    "y = df[['Class']]"
   ]
  },
  {
   "cell_type": "code",
   "execution_count": null,
   "id": "478714d6-2819-4feb-ad96-2b56f8a27bab",
   "metadata": {},
   "outputs": [],
   "source": [
    "X.columns"
   ]
  },
  {
   "cell_type": "code",
   "execution_count": null,
   "id": "e18c2084-4989-471a-8ef6-80e676dc52ca",
   "metadata": {},
   "outputs": [],
   "source": [
    "y.columns"
   ]
  },
  {
   "cell_type": "raw",
   "id": "21c079d0-9299-4751-9066-1fd457affa8a",
   "metadata": {},
   "source": [
    "NORMALIZING AMOUNT AND TIME"
   ]
  },
  {
   "cell_type": "code",
   "execution_count": null,
   "id": "56c416ed-bca2-4e73-90cb-2c6829677992",
   "metadata": {},
   "outputs": [],
   "source": [
    "def z_score_normalization(x):\n",
    "    Mu = np.mean(x,axis = 0)\n",
    "    std = np.std(x,axis = 0)\n",
    "    x_norm = (x-Mu)/(std)\n",
    "\n",
    "    return x_norm"
   ]
  },
  {
   "cell_type": "code",
   "execution_count": null,
   "id": "970cc5a6-ee1f-4189-adb5-8fe03dbcdaa2",
   "metadata": {},
   "outputs": [],
   "source": [
    "norm_amount = z_score_normalization(X[['Amount']])\n",
    "norm_time   = z_score_normalization(X[['Time']])"
   ]
  },
  {
   "cell_type": "code",
   "execution_count": null,
   "id": "dde97474-8f24-45cd-bb30-d6f22357efb2",
   "metadata": {
    "scrolled": true
   },
   "outputs": [],
   "source": [
    "norm_time"
   ]
  },
  {
   "cell_type": "code",
   "execution_count": null,
   "id": "5a01cc1d-2db9-45cd-98cb-00df923d4879",
   "metadata": {},
   "outputs": [],
   "source": [
    "norm_amount"
   ]
  },
  {
   "cell_type": "code",
   "execution_count": null,
   "id": "8e39ccfb-3127-4a6f-9f5a-2a26da3dd8b1",
   "metadata": {},
   "outputs": [],
   "source": [
    "X.drop(['Time','Amount'],axis = 1,inplace = True)"
   ]
  },
  {
   "cell_type": "code",
   "execution_count": null,
   "id": "1bd82434-035b-499a-a2f7-6fa3903b8932",
   "metadata": {},
   "outputs": [],
   "source": [
    "X['Time'] = norm_time\n",
    "X['amount'] = norm_amount"
   ]
  },
  {
   "cell_type": "code",
   "execution_count": null,
   "id": "ac5b9503-4cfe-41cf-ad87-4bde2c1925dd",
   "metadata": {},
   "outputs": [],
   "source": [
    "y.columns"
   ]
  },
  {
   "cell_type": "code",
   "execution_count": null,
   "id": "8745754f-b3c7-41bc-b2b5-be265205c50b",
   "metadata": {},
   "outputs": [],
   "source": [
    "X_train,X_test,y_train,y_test = train_test_split(X,y,test_size = 0.2,random_state = 42,stratify = y)"
   ]
  },
  {
   "cell_type": "code",
   "execution_count": null,
   "id": "65feef9d-cd1e-4816-9bbf-e453d64a7f3c",
   "metadata": {},
   "outputs": [],
   "source": [
    "X_train.columns"
   ]
  },
  {
   "cell_type": "code",
   "execution_count": null,
   "id": "06291e50-0c45-4104-b151-4a44ab0e72cb",
   "metadata": {},
   "outputs": [],
   "source": [
    "y_train.columns"
   ]
  },
  {
   "cell_type": "markdown",
   "id": "fb6be044-0395-4d11-908f-f2c7b6cd6189",
   "metadata": {},
   "source": [
    "Next thing is to handle the imbalance in the data that is in this the data have high no of non-fraudelent cases \n",
    "so inorder to solve this imabalance we nee to solve this \n",
    "1)undersampling\n",
    "Reduce the number of non-fraud cases (Class 0) so it matches the number of fraud cases (Class 1).\n",
    "\n",
    "✏️ Example:\n",
    "From 284,315 non-frauds → randomly pick only 492 to match the 492 frauds.\n",
    "So now you have:\n",
    "\n",
    "492 frauds\n",
    "\n",
    "492 non-frauds\n",
    "2)oversampling\n",
    "Duplicate or synthesize more fraud cases (Class 1) so it matches the number of non-fraud cases.\n",
    "\n",
    "Two types:\n",
    "🔁 a. Random Oversampling\n",
    "Simply duplicate existing fraud samples\n",
    "\n",
    "Easy but may lead to overfitting\n",
    "\n",
    "🧠 b. SMOTE (Synthetic Minority Oversampling Technique)\n",
    "Generates new synthetic fraud samples based on real ones\n",
    "\n",
    "Creates slightly modified “fake” examples to enrich diversity"
   ]
  },
  {
   "cell_type": "code",
   "execution_count": null,
   "id": "0e5f7b3c-bf5f-490e-b3a3-40faa6ac562e",
   "metadata": {},
   "outputs": [],
   "source": [
    "# Going with undersampling"
   ]
  },
  {
   "cell_type": "code",
   "execution_count": null,
   "id": "c3588782-8ed6-458a-a982-f96f77d8bdf8",
   "metadata": {},
   "outputs": [],
   "source": [
    "train_data = pd.concat([X_train,y_train],axis = 1)"
   ]
  },
  {
   "cell_type": "code",
   "execution_count": null,
   "id": "097e0ee0-db72-4158-85d4-239d0f6d9beb",
   "metadata": {},
   "outputs": [],
   "source": [
    "train_data.columns"
   ]
  },
  {
   "cell_type": "code",
   "execution_count": null,
   "id": "7e4a2ae2-f6f1-4cef-8cbb-b7fa90bc1689",
   "metadata": {},
   "outputs": [],
   "source": [
    "fraud_case = train_data[train_data['Class'] == 1]\n",
    "non_fraud_case = train_data[train_data['Class'] == 0]\n",
    "\n",
    "# Undersample non-fraud to match number of fraud samples\n",
    "non_fraud_sampled = non_fraud_case.sample(n=len(fraud_case), random_state=42)\n",
    "\n",
    "balanced_data = pd.concat([fraud_case,non_fraud_sampled])\n",
    "\n",
    "#Shuffle the balanced dataset\n",
    "balanced_data = balanced_data.sample(frac = 1,random_state = 42).reset_index(drop = True)\n",
    "X_train_balanced = balanced_data.drop('Class',axis = 1)\n",
    "y_train_balanced = balanced_data[['Class']]"
   ]
  },
  {
   "cell_type": "code",
   "execution_count": null,
   "id": "2b417e68-e00f-4332-b60f-f8aa829e68dd",
   "metadata": {},
   "outputs": [],
   "source": [
    "X_train_balanced.columns\n",
    "y_train_balanced.columns"
   ]
  },
  {
   "cell_type": "code",
   "execution_count": null,
   "id": "f80218fd-9607-4f8d-aaab-5028374a69e6",
   "metadata": {},
   "outputs": [],
   "source": [
    "def sigmoid(z):\n",
    "    return 1/(1+np.exp(-z))"
   ]
  },
  {
   "cell_type": "code",
   "execution_count": null,
   "id": "a480ffe6-053d-4d4d-89f0-a9992721f3d6",
   "metadata": {},
   "outputs": [],
   "source": [
    "def compute_cost(x,y,w,b):\n",
    "    x = np.array(x)\n",
    "    y = np.array(y)\n",
    "    m = x.shape[0]\n",
    "    cost = 0 \n",
    "    for i in range(m):\n",
    "        z_i = np.dot(x[i],w)+b\n",
    "        f_wb_i = sigmoid(z_i)\n",
    "        cost+=-y[i]*np.log(f_wb_i) - (1-y[i])*np.log(1-f_wb_i)\n",
    "    cost/=(m)\n",
    "    return cost\n",
    "        "
   ]
  },
  {
   "cell_type": "code",
   "execution_count": 144,
   "id": "f22662bf-030c-4c20-8fd1-49c3f79ba9a3",
   "metadata": {
    "scrolled": true
   },
   "outputs": [],
   "source": [
    "w_init = np.zeros(X_train_balanced.shape[1])\n",
    "b_init = 0"
   ]
  },
  {
   "cell_type": "code",
   "execution_count": 148,
   "id": "fee932a7-e96c-4078-aabf-3bf7902985da",
   "metadata": {},
   "outputs": [],
   "source": [
    "def compute_gradient_logistic(x,y,w,b):\n",
    "    x = np.array(x)\n",
    "    y = np.array(y)\n",
    "    m,n = x.shape\n",
    "    dj_dw = np.zeros((n,))\n",
    "    dj_db = 0\n",
    "    for i in range(m):\n",
    "        f_wb_i = sigmoid(np.dot(x[i],w)+b)\n",
    "        err_i  = (f_wb_i - y[i])\n",
    "        for j in range(n):\n",
    "            dj_dw+=err_i*x[i,j]\n",
    "\n",
    "        dj_db+=err_i\n",
    "    dj_dw = dj_dw/(m)\n",
    "    dj_db = dj_db/(m)\n",
    "    return dj_dw,dj_db"
   ]
  },
  {
   "cell_type": "code",
   "execution_count": null,
   "id": "d29b7044-1efe-458b-9b50-4353450524ed",
   "metadata": {},
   "outputs": [],
   "source": [
    "import math"
   ]
  },
  {
   "cell_type": "code",
   "execution_count": 174,
   "id": "1c0f659c-e8cb-486d-b42d-e7fb99829258",
   "metadata": {},
   "outputs": [],
   "source": [
    "def compute_gradient_descent(x,y,w,b,num_iterations,alpha):\n",
    "\n",
    "    j_history = []\n",
    "    for i in range(num_iterations):\n",
    "        dj_dw,dj_db = compute_gradient_logistic(X_train_balanced,y_train_balanced,w,b)\n",
    "        w = w - alpha*dj_dw\n",
    "        b = b - alpha*dj_db\n",
    "        if i<1000000:\n",
    "             j_history.append(compute_cost(X_train_balanced,y_train_balanced,w,b))\n",
    "        if i% math.ceil(num_iterations / 10) == 0:\n",
    "             print(f\"Iteration {i:4d}: Cost {j_history[-1]}\")\n",
    "    return w,b,j_history"
   ]
  },
  {
   "cell_type": "code",
   "execution_count": 175,
   "id": "b4713b39-8e74-4817-9056-e27fb4701e9a",
   "metadata": {},
   "outputs": [
    {
     "name": "stdout",
     "output_type": "stream",
     "text": [
      "Iteration    0: Cost [0.44579083]\n",
      "Iteration  100: Cost [0.41716406]\n",
      "Iteration  200: Cost [0.3972556]\n",
      "Iteration  300: Cost [0.38232296]\n",
      "Iteration  400: Cost [0.37102333]\n",
      "Iteration  500: Cost [0.36239513]\n",
      "Iteration  600: Cost [0.35574859]\n",
      "Iteration  700: Cost [0.35058597]\n",
      "Iteration  800: Cost [0.3465451]\n",
      "Iteration  900: Cost [0.34336]\n"
     ]
    }
   ],
   "source": [
    "num_iterations = 1000\n",
    "alpha = 0.01\n",
    "w,b,j_history = compute_gradient_descent(X_train_balanced,y_train_balanced,w_init,b_init,num_iterations,alpha)"
   ]
  },
  {
   "cell_type": "code",
   "execution_count": 176,
   "id": "15cdcd62-da00-44d7-ae92-64677cb3a7cf",
   "metadata": {},
   "outputs": [
    {
     "name": "stdout",
     "output_type": "stream",
     "text": [
      "[-0.15963162 -0.15963162 -0.15963162 -0.15963162 -0.15963162 -0.15963162\n",
      " -0.15963162 -0.15963162 -0.15963162 -0.15963162 -0.15963162 -0.15963162\n",
      " -0.15963162 -0.15963162 -0.15963162 -0.15963162 -0.15963162 -0.15963162\n",
      " -0.15963162 -0.15963162 -0.15963162 -0.15963162 -0.15963162 -0.15963162\n",
      " -0.15963162 -0.15963162 -0.15963162 -0.15963162 -0.15963162 -0.15963162] [-0.94773499]\n"
     ]
    }
   ],
   "source": [
    "print(w,b)"
   ]
  },
  {
   "cell_type": "code",
   "execution_count": null,
   "id": "2294e591-88dc-4fb4-8188-5542a44e4a93",
   "metadata": {},
   "outputs": [],
   "source": [
    "import matplotlib.pyplot as plt\n",
    "\n",
    "fig,axs = plt.subplots(1,1,figsize = (5,5))\n",
    "axs.plot(range(len(j_history)),j_history,color = \"blue\")\n",
    "axs.set_xlabel(\"iterations\")\n",
    "axs.set_ylabel(\"j_history\")\n",
    "plt.show()\n",
    "\n"
   ]
  },
  {
   "cell_type": "code",
   "execution_count": 194,
   "id": "e27b61cd-f574-46d3-8fb5-04dde9392fe4",
   "metadata": {},
   "outputs": [],
   "source": [
    "def predict(x,w,b):\n",
    "    z = np.dot(x,w)+b\n",
    "    return sigmoid(z)>=0.9"
   ]
  },
  {
   "cell_type": "code",
   "execution_count": 195,
   "id": "4f1ab0ed-350d-4fab-9d0a-8e432dc2c3b3",
   "metadata": {},
   "outputs": [],
   "source": [
    "y_pred = predict(X_test,w,b)"
   ]
  },
  {
   "cell_type": "code",
   "execution_count": 196,
   "id": "32ec8a5e-f190-437e-b188-140f171c15db",
   "metadata": {},
   "outputs": [],
   "source": [
    "from sklearn.metrics import accuracy_score\n",
    "\n",
    "accuracy = accuracy_score(y_test,y_pred)"
   ]
  },
  {
   "cell_type": "code",
   "execution_count": 197,
   "id": "c1952b02-65d1-45e1-9f62-ec469e310af8",
   "metadata": {},
   "outputs": [
    {
     "name": "stdout",
     "output_type": "stream",
     "text": [
      "0.9961904427513079\n"
     ]
    }
   ],
   "source": [
    "print(accuracy)"
   ]
  },
  {
   "cell_type": "code",
   "execution_count": 199,
   "id": "4905f4d3-1acf-462a-b5c9-587da22dc015",
   "metadata": {},
   "outputs": [
    {
     "name": "stdout",
     "output_type": "stream",
     "text": [
      "precision: 0.26666666666666666\n",
      "confuion_matrix: [[56677   187]\n",
      " [   30    68]]\n"
     ]
    }
   ],
   "source": [
    "from sklearn.metrics import precision_score, recall_score, f1_score, confusion_matrix\n",
    "\n",
    "print(\"precision:\",precision_score(y_test,y_pred))\n",
    "print(\"confuion_matrix:\",confusion_matrix(y_test,y_pred))"
   ]
  },
  {
   "cell_type": "code",
   "execution_count": 201,
   "id": "b653ddd2-4fd7-46ad-8b87-2d5004b70b68",
   "metadata": {},
   "outputs": [
    {
     "data": {
      "image/png": "[encoded data removed]",
      "text/plain": [
       "<Figure size 600x500 with 2 Axes>"
      ]
     },
     "metadata": {},
     "output_type": "display_data"
    }
   ],
   "source": [
    "import matplotlib.pyplot as plt\n",
    "import seaborn as sns\n",
    "import numpy as np\n",
    "\n",
    "# Your confusion matrix\n",
    "cm = np.array([[56677, 187],\n",
    "               [30,    68]])\n",
    "\n",
    "# Set the labels\n",
    "labels = ['Non-Fraud', 'Fraud']\n",
    "\n",
    "plt.figure(figsize=(6, 5))\n",
    "sns.heatmap(cm,\n",
    "            annot=True,\n",
    "            fmt='d',\n",
    "            cmap='coolwarm',  # Try 'YlGnBu' or 'Reds' or your own\n",
    "            xticklabels=['Predicted 0', 'Predicted 1'],\n",
    "            yticklabels=['Actual 0', 'Actual 1'],\n",
    "            linewidths=1,\n",
    "            linecolor='black')\n",
    "\n",
    "plt.title('Confusion Matrix')\n",
    "plt.xlabel('Predicted Label')\n",
    "plt.ylabel('True Label')\n",
    "plt.show()\n"
   ]
  },
  {
   "cell_type": "code",
   "execution_count": null,
   "id": "2dbcd369-fbeb-4891-bca0-5937d80a2aca",
   "metadata": {},
   "outputs": [],
   "source": []
  }
 ],
 "metadata": {
  "kernelspec": {
   "display_name": "Python 3 (ipykernel)",
   "language": "python",
   "name": "python3"
  },
  "language_info": {
   "codemirror_mode": {
    "name": "ipython",
    "version": 3
   },
   "file_extension": ".py",
   "mimetype": "text/x-python",
   "name": "python",
   "nbconvert_exporter": "python",
   "pygments_lexer": "ipython3",
   "version": "3.11.7"
  }
 },
 "nbformat": 4,
 "nbformat_minor": 5
}
