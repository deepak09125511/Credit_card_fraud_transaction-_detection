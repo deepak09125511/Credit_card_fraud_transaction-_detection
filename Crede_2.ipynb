{
 "cells": [
  {
   "cell_type": "code",
   "execution_count": null,
   "id": "b95146df-85e0-4a1e-a2b8-805dd5f4d60e",
   "metadata": {},
   "outputs": [],
   "source": [
    "import pandas as pd\n",
    "import numpy as np"
   ]
  },
  {
   "cell_type": "code",
   "execution_count": null,
   "id": "66490817-c02e-4424-a44e-3fe73dc546b7",
   "metadata": {},
   "outputs": [],
   "source": [
    "df = pd.read_csv(\"D:\\Downloads\\creditcard.csv.zip\")"
   ]
  },
  {
   "cell_type": "code",
   "execution_count": null,
   "id": "191fccaf-26f5-428d-bef6-5941ab76228e",
   "metadata": {},
   "outputs": [],
   "source": [
    "df.head()"
   ]
  },
  {
   "cell_type": "code",
   "execution_count": null,
   "id": "1416d936-1a42-4c2f-a36f-926717464de0",
   "metadata": {},
   "outputs": [],
   "source": [
    "from sklearn.model_selection import train_test_split"
   ]
  },
  {
   "cell_type": "raw",
   "id": "21c079d0-9299-4751-9066-1fd457affa8a",
   "metadata": {},
   "source": [
    "NORMALIZING AMOUNT AND TIME"
   ]
  },
  {
   "cell_type": "code",
   "execution_count": null,
   "id": "56c416ed-bca2-4e73-90cb-2c6829677992",
   "metadata": {},
   "outputs": [],
   "source": [
    "def z_score_normalization(x):\n",
    "    Mu = np.mean(x,axis = 0)\n",
    "    std = np.std(x,axis = 0)\n",
    "    x_norm = (x-Mu)/(std)\n",
    "\n",
    "    return x_norm"
   ]
  },
  {
   "cell_type": "markdown",
   "id": "fb6be044-0395-4d11-908f-f2c7b6cd6189",
   "metadata": {},
   "source": [
    "Next thing is to handle the imbalance in the data that is in this the data have high no of non-fraudelent cases \n",
    "so inorder to solve this imabalance we nee to solve this \n",
    "1)undersampling\n",
    "Reduce the number of non-fraud cases (Class 0) so it matches the number of fraud cases (Class 1).\n",
    "\n",
    "✏️ Example:\n",
    "From 284,315 non-frauds → randomly pick only 492 to match the 492 frauds.\n",
    "So now you have:\n",
    "\n",
    "492 frauds\n",
    "\n",
    "492 non-frauds\n",
    "2)oversampling\n",
    "Duplicate or synthesize more fraud cases (Class 1) so it matches the number of non-fraud cases.\n",
    "\n",
    "Two types:\n",
    "🔁 a. Random Oversampling\n",
    "Simply duplicate existing fraud samples\n",
    "\n",
    "Easy but may lead to overfitting\n",
    "\n",
    "🧠 b. SMOTE (Synthetic Minority Oversampling Technique)\n",
    "Generates new synthetic fraud samples based on real ones\n",
    "\n",
    "Creates slightly modified “fake” examples to enrich diversity"
   ]
  },
  {
   "cell_type": "code",
   "execution_count": null,
   "id": "0e5f7b3c-bf5f-490e-b3a3-40faa6ac562e",
   "metadata": {},
   "outputs": [],
   "source": [
    "# Going with undersampling"
   ]
  },
  {
   "cell_type": "code",
   "execution_count": null,
   "id": "f80218fd-9607-4f8d-aaab-5028374a69e6",
   "metadata": {},
   "outputs": [],
   "source": [
    "def sigmoid(z):\n",
    "    return 1/(1+np.exp(-z))"
   ]
  },
  {
   "cell_type": "code",
   "execution_count": null,
   "id": "a480ffe6-053d-4d4d-89f0-a9992721f3d6",
   "metadata": {},
   "outputs": [],
   "source": [
    "def compute_cost(x,y,w,b):\n",
    "    x = np.array(x)\n",
    "    y = np.array(y)\n",
    "    m = x.shape[0]\n",
    "    cost = 0 \n",
    "    for i in range(m):\n",
    "        z_i = np.dot(x[i],w)+b\n",
    "        f_wb_i = sigmoid(z_i)\n",
    "        cost+=-y[i]*np.log(f_wb_i) - (1-y[i])*np.log(1-f_wb_i)\n",
    "    cost/=(m)\n",
    "    return cost\n",
    "        "
   ]
  },
  {
   "cell_type": "code",
   "execution_count": null,
   "id": "f22662bf-030c-4c20-8fd1-49c3f79ba9a3",
   "metadata": {
    "scrolled": true
   },
   "outputs": [],
   "source": [
    "w_init = np.zeros(X_train_balanced.shape[1])\n",
    "b_init = 0"
   ]
  },
  {
   "cell_type": "code",
   "execution_count": null,
   "id": "fee932a7-e96c-4078-aabf-3bf7902985da",
   "metadata": {},
   "outputs": [],
   "source": [
    "def compute_gradient_logistic(x,y,w,b):\n",
    "    x = np.array(x)\n",
    "    y = np.array(y)\n",
    "    m,n = x.shape\n",
    "    dj_dw = np.zeros((n,))\n",
    "    dj_db = 0\n",
    "    for i in range(m):\n",
    "        f_wb_i = sigmoid(np.dot(x[i],w)+b)\n",
    "        err_i  = (f_wb_i - y[i])\n",
    "        for j in range(n):\n",
    "            dj_dw+=err_i*x[i,j]\n",
    "\n",
    "        dj_db+=err_i\n",
    "    dj_dw = dj_dw/(m)\n",
    "    dj_db = dj_db/(m)\n",
    "    return dj_dw,dj_db"
   ]
  },
  {
   "cell_type": "code",
   "execution_count": null,
   "id": "d29b7044-1efe-458b-9b50-4353450524ed",
   "metadata": {},
   "outputs": [],
   "source": [
    "import math"
   ]
  },
  {
   "cell_type": "code",
   "execution_count": null,
   "id": "1c0f659c-e8cb-486d-b42d-e7fb99829258",
   "metadata": {},
   "outputs": [],
   "source": [
    "def compute_gradient_descent(x,y,w,b,num_iterations,alpha):\n",
    "\n",
    "    j_history = []\n",
    "    for i in range(num_iterations):\n",
    "        dj_dw,dj_db = compute_gradient_logistic(X_train_balanced,y_train_balanced,w,b)\n",
    "        w = w - alpha*dj_dw\n",
    "        b = b - alpha*dj_db\n",
    "        if i<1000000:\n",
    "             j_history.append(compute_cost(X_train_balanced,y_train_balanced,w,b))\n",
    "        if i% math.ceil(num_iterations / 10) == 0:\n",
    "             print(f\"Iteration {i:4d}: Cost {j_history[-1]}\")\n",
    "    return w,b,j_history"
   ]
  },
  {
   "cell_type": "code",
   "execution_count": null,
   "id": "e27b61cd-f574-46d3-8fb5-04dde9392fe4",
   "metadata": {},
   "outputs": [],
   "source": [
    "def predict(x,w,b):\n",
    "    z = np.dot(x,w)+b\n",
    "    return sigmoid(z)>=0.9"
   ]
  },
  {
   "cell_type": "code",
   "execution_count": null,
   "id": "2dbcd369-fbeb-4891-bca0-5937d80a2aca",
   "metadata": {},
   "outputs": [],
   "source": [
    "import numpy as np\n",
    "import pandas as pd\n",
    "from sklearn.preprocessing import StandardScaler\n",
    "\n",
    "new_df = df.copy()\n",
    "\n",
    "new_df['time_bin'] = pd.cut(new_df['Time'],bins = np.arange(0,new_df['Time'].max()+3600,3600))\n",
    "\n",
    "new_df = new_df[new_df['time_bin'].notna()]\n",
    "\n",
    "avg_amount_per_time_bin = new_df.groupby('time_bin')['Amount'].mean()\n",
    "avg_amount_per_time_bin.name = 'average_amount_per_time_bin'\n",
    "new_df = new_df.join(avg_amount_per_time_bin,on = 'time_bin')\n"
   ]
  },
  {
   "cell_type": "code",
   "execution_count": null,
   "id": "831faafa-b0d7-449f-90df-d39014e77958",
   "metadata": {},
   "outputs": [],
   "source": [
    "new_df = new_df[new_df['average_amount_per_time_bin'].notna()]"
   ]
  },
  {
   "cell_type": "code",
   "execution_count": null,
   "id": "da369220-4759-4391-9beb-a148e6d2e6d7",
   "metadata": {},
   "outputs": [],
   "source": [
    "new_df['Amount_by_Avg'] = new_df['Amount']/new_df['average_amount_per_time_bin']\n",
    "new_df['log_amount_by_avg'] = np.log1p(new_df['Amount_by_Avg'])\n"
   ]
  },
  {
   "cell_type": "code",
   "execution_count": null,
   "id": "ff35785c-e7c5-4ddd-aa62-14a28ca11b87",
   "metadata": {},
   "outputs": [],
   "source": [
    "\n",
    "new_df['log_Amount_by_Avg_scaled'] = z_score_normalization(new_df[['log_amount_by_avg']])"
   ]
  },
  {
   "cell_type": "code",
   "execution_count": null,
   "id": "c285cbcb-3d10-4364-afa7-75755fa26d14",
   "metadata": {
    "scrolled": true
   },
   "outputs": [],
   "source": [
    "new_df"
   ]
  },
  {
   "cell_type": "code",
   "execution_count": null,
   "id": "c01b62c3-4927-412c-aec6-5969502a97bb",
   "metadata": {},
   "outputs": [],
   "source": [
    "new_df.shape"
   ]
  },
  {
   "cell_type": "code",
   "execution_count": null,
   "id": "ae5bf36a-b7fb-479a-9bf7-bea9adbbdcfd",
   "metadata": {},
   "outputs": [],
   "source": [
    "w_init = np.zeros(X_train_balanced.shape[1])\n",
    "b_init = 0"
   ]
  },
  {
   "cell_type": "code",
   "execution_count": null,
   "id": "d41a8a5d-2b7a-4a24-9a52-241aa20e3132",
   "metadata": {},
   "outputs": [],
   "source": [
    "\n",
    "new_df.drop([\"average_amount_per_time_bin\"],axis=1)\n"
   ]
  },
  {
   "cell_type": "code",
   "execution_count": null,
   "id": "a6abf9e2-78a7-49cf-b612-e50d422087c6",
   "metadata": {
    "scrolled": true
   },
   "outputs": [],
   "source": [
    "new_df"
   ]
  },
  {
   "cell_type": "code",
   "execution_count": null,
   "id": "aa8c5dd7-03c2-41be-8c69-f1580015d38a",
   "metadata": {},
   "outputs": [],
   "source": [
    "new_df.shape[0]"
   ]
  },
  {
   "cell_type": "code",
   "execution_count": null,
   "id": "b9e4884c-5bf7-458f-80b0-21c643820119",
   "metadata": {},
   "outputs": [],
   "source": [
    "norm_amount = z_score_normalization(new_df[['Amount']])\n",
    "norm_Time   = z_score_normalization(new_df[['Time']])"
   ]
  },
  {
   "cell_type": "code",
   "execution_count": null,
   "id": "43f75fac-0f86-4b4a-bc13-999e9fde29ab",
   "metadata": {},
   "outputs": [],
   "source": [
    "new_df = new_df.join([norm_amount.rename(columns={'Amount': 'norm_amount'}),\n",
    "                      norm_Time.rename(columns={'Time': 'norm_time'})])"
   ]
  },
  {
   "cell_type": "code",
   "execution_count": null,
   "id": "2d17a6a4-cf88-41d5-b04f-04d3c9e515a0",
   "metadata": {},
   "outputs": [],
   "source": [
    "new_df = new_df.drop(['Time'],axis = 1)"
   ]
  },
  {
   "cell_type": "code",
   "execution_count": null,
   "id": "07521b02-244f-4d0a-bfcb-e93df66172c8",
   "metadata": {},
   "outputs": [],
   "source": [
    "new_df = new_df.drop(['Amount'],axis = 1)"
   ]
  },
  {
   "cell_type": "code",
   "execution_count": null,
   "id": "cd3a1874-90e1-4a0c-9365-1d7533472747",
   "metadata": {},
   "outputs": [],
   "source": [
    "new_df = new_df.drop(['average_amount_per_time_bin'],axis = 1)"
   ]
  },
  {
   "cell_type": "code",
   "execution_count": null,
   "id": "696c375d-0c1c-4326-b025-50de5c39aaed",
   "metadata": {},
   "outputs": [],
   "source": [
    "new_df"
   ]
  },
  {
   "cell_type": "code",
   "execution_count": null,
   "id": "777ca5d5-2b5e-4df3-ac31-05b96e839e8e",
   "metadata": {},
   "outputs": [],
   "source": [
    "x = new_df.drop('Class',axis = 1)\n",
    "Y = new_df[['Class']]"
   ]
  },
  {
   "cell_type": "code",
   "execution_count": null,
   "id": "c87cfa62-471d-430a-b87b-fab3c69dc639",
   "metadata": {},
   "outputs": [],
   "source": [
    "x"
   ]
  },
  {
   "cell_type": "code",
   "execution_count": null,
   "id": "ce63ac4f-c091-4c0d-8a61-b7f2a5eddd39",
   "metadata": {},
   "outputs": [],
   "source": [
    "Y"
   ]
  },
  {
   "cell_type": "code",
   "execution_count": null,
   "id": "c48fb781-8636-4e6f-a6d9-04e850b41fe0",
   "metadata": {},
   "outputs": [],
   "source": [
    "X_train,X_test,y_train,y_test = train_test_split(x,Y,test_size = 0.2,random_state = 42,stratify = Y)"
   ]
  },
  {
   "cell_type": "code",
   "execution_count": null,
   "id": "dff6f626-c13c-49c3-ac33-7c86f9684001",
   "metadata": {},
   "outputs": [],
   "source": [
    "new_df.columns[new_df.isnull().any()]"
   ]
  },
  {
   "cell_type": "code",
   "execution_count": null,
   "id": "8bd43768-8a7a-4e45-a48f-c68939ce9988",
   "metadata": {},
   "outputs": [],
   "source": [
    "train_data_new = pd.concat([X_train,y_train],axis = 1)"
   ]
  },
  {
   "cell_type": "code",
   "execution_count": null,
   "id": "eea89878-5d7b-4838-98fa-6936c1f2b0ab",
   "metadata": {},
   "outputs": [],
   "source": [
    "fraud_case_new = train_data_new[train_data_new[\"Class\"]==1]"
   ]
  },
  {
   "cell_type": "code",
   "execution_count": null,
   "id": "205de4e3-4d9f-4f9e-b162-fe4a53f2bdf2",
   "metadata": {},
   "outputs": [],
   "source": [
    "non_fraud_case_new = train_data_new[train_data_new[\"Class\"]==0]"
   ]
  },
  {
   "cell_type": "code",
   "execution_count": null,
   "id": "f85ce27a-dca6-4945-900f-7332edf997af",
   "metadata": {},
   "outputs": [],
   "source": [
    "fraud_case_new"
   ]
  },
  {
   "cell_type": "code",
   "execution_count": null,
   "id": "2d1c60a9-7e2f-42f3-a877-63254a7ee964",
   "metadata": {},
   "outputs": [],
   "source": [
    "non_fraud_case_new"
   ]
  },
  {
   "cell_type": "code",
   "execution_count": null,
   "id": "3f690b88-d680-48fc-96a0-0d24e36b5914",
   "metadata": {},
   "outputs": [],
   "source": [
    "non_fraud_case_sampled = non_fraud_case_new.sample(n=len(fraud_case_new),random_state=42)"
   ]
  },
  {
   "cell_type": "code",
   "execution_count": null,
   "id": "c4512c2f-6bc3-4253-b952-ba86efd86f1c",
   "metadata": {},
   "outputs": [],
   "source": [
    "count = 0\n",
    "for i in range(len(fraud_case_new[fraud_case_new[\"Class\"]==1])):\n",
    "    count+=1\n",
    "print(count)"
   ]
  },
  {
   "cell_type": "code",
   "execution_count": null,
   "id": "724e3a5a-df42-4e19-bf45-3a5fc7f96e1c",
   "metadata": {},
   "outputs": [],
   "source": [
    "count = 0\n",
    "for i in range(len(non_fraud_case_sampled[non_fraud_case_sampled[\"Class\"]==0])):\n",
    "    count+=1\n",
    "print(count)"
   ]
  },
  {
   "cell_type": "code",
   "execution_count": null,
   "id": "cb5969de-b33a-4f7f-a17c-829ba35ebbe8",
   "metadata": {},
   "outputs": [],
   "source": [
    "balanced_data_new = pd.concat([fraud_case_new,non_fraud_case_sampled]) "
   ]
  },
  {
   "cell_type": "code",
   "execution_count": null,
   "id": "a7d5e608-3ca8-4b68-ad53-31acaf0be723",
   "metadata": {},
   "outputs": [],
   "source": [
    "balanced_data_new"
   ]
  },
  {
   "cell_type": "code",
   "execution_count": null,
   "id": "a3e6adc7-bd83-4fe3-95a9-ba74def4eee5",
   "metadata": {},
   "outputs": [],
   "source": [
    "balanced_data_new = balanced_data_new.sample(frac = 1,random_state = 42).reset_index(drop = True)\n",
    "X_train_balanced_new = balanced_data_new.drop('Class',axis = 1)\n",
    "y_train_balanced_new = balanced_data_new[['Class']]"
   ]
  },
  {
   "cell_type": "code",
   "execution_count": null,
   "id": "2b2222eb-207e-4f58-8409-82cd12f229e5",
   "metadata": {},
   "outputs": [],
   "source": [
    "X_train_balanced_new"
   ]
  },
  {
   "cell_type": "code",
   "execution_count": null,
   "id": "214f0d35-eb55-4ff7-a006-8d069e1b7eff",
   "metadata": {},
   "outputs": [],
   "source": [
    "X_train_balanced_new=X_train_balanced_new.drop('time_bin',axis = 1)"
   ]
  },
  {
   "cell_type": "code",
   "execution_count": null,
   "id": "86abee6a-4668-4561-858b-00fb45ad3fb2",
   "metadata": {},
   "outputs": [],
   "source": [
    "X_train_balanced_new=X_train_balanced_new.drop('Amount_by_Avg',axis = 1)"
   ]
  },
  {
   "cell_type": "code",
   "execution_count": null,
   "id": "2a18657b-fae9-4e37-b504-79a64889f62f",
   "metadata": {},
   "outputs": [],
   "source": [
    "X_train_balanced_new=X_train_balanced_new.drop('log_amount_by_avg',axis = 1)"
   ]
  },
  {
   "cell_type": "code",
   "execution_count": null,
   "id": "e9b512de-522a-484f-9e2a-cefe081764bf",
   "metadata": {},
   "outputs": [],
   "source": [
    "X_train_balanced_new"
   ]
  },
  {
   "cell_type": "code",
   "execution_count": null,
   "id": "9411e847-5264-4578-86f1-30c50e64c1c8",
   "metadata": {},
   "outputs": [],
   "source": [
    "y_train_balanced_new"
   ]
  },
  {
   "cell_type": "code",
   "execution_count": null,
   "id": "8668b1f0-56dc-4d92-8ae5-8cc459f5d0f0",
   "metadata": {},
   "outputs": [],
   "source": [
    "w_init_new = np.zeros(X_train_balanced_new.shape[1])\n",
    "b_init_new = 0"
   ]
  },
  {
   "cell_type": "code",
   "execution_count": null,
   "id": "3454061b-2201-4503-a205-33281ba44627",
   "metadata": {},
   "outputs": [],
   "source": [
    "print(X_train_balanced_new.dtypes)"
   ]
  },
  {
   "cell_type": "code",
   "execution_count": null,
   "id": "946a496f-9726-4f61-b607-51c45f723108",
   "metadata": {},
   "outputs": [],
   "source": [
    "def compute_gradient_descent(x,y,w,b,num_iterations,alpha):\n",
    "\n",
    "    j_history = []\n",
    "    for i in range(num_iterations):\n",
    "        dj_dw,dj_db = compute_gradient_logistic(X_train_balanced_new,y_train_balanced_new,w,b)\n",
    "        w = w - alpha*dj_dw\n",
    "        b = b - alpha*dj_db\n",
    "        if i<1000000:\n",
    "             j_history.append(compute_cost(X_train_balanced_new,y_train_balanced_new,w,b))\n",
    "        if i% math.ceil(num_iterations / 10) == 0:\n",
    "             print(f\"Iteration {i:4d}: Cost {j_history[-1]}\")\n",
    "    return w,b,j_history"
   ]
  },
  {
   "cell_type": "code",
   "execution_count": null,
   "id": "1946fb43-3c20-4668-bd3c-c741bfe81c50",
   "metadata": {},
   "outputs": [],
   "source": [
    "num_iterations = 1000\n",
    "alpha = 0.01\n",
    "w,b,j_history = compute_gradient_descent(X_train_balanced_new,y_train_balanced_new,w_init_new,b_init_new,num_iterations,alpha)"
   ]
  },
  {
   "cell_type": "code",
   "execution_count": null,
   "id": "4e8b6bb1-09a6-4c06-ac9c-4f2656c8b57e",
   "metadata": {},
   "outputs": [],
   "source": [
    "print(w,b)"
   ]
  },
  {
   "cell_type": "code",
   "execution_count": null,
   "id": "768f329e-9460-4b69-92e8-8f6b0c71000b",
   "metadata": {},
   "outputs": [],
   "source": [
    "X_test"
   ]
  },
  {
   "cell_type": "code",
   "execution_count": null,
   "id": "be80d1fe-d9fd-4e8b-8a30-35de62c2489f",
   "metadata": {},
   "outputs": [],
   "source": [
    "X_test = X_test.drop(columns = ['time_bin','Amount_by_Avg','log_amount_by_avg'])\n"
   ]
  },
  {
   "cell_type": "code",
   "execution_count": null,
   "id": "5d728a6c-ffe1-4d92-9d5c-11f3154a8093",
   "metadata": {},
   "outputs": [],
   "source": [
    "X_test"
   ]
  },
  {
   "cell_type": "code",
   "execution_count": null,
   "id": "366ac9d5-90a7-402f-964f-62014bc145aa",
   "metadata": {},
   "outputs": [],
   "source": [
    "def predict_new(x,w,b):\n",
    "    z = np.dot(x,w)+b\n",
    "    return sigmoid(z)>=0.9"
   ]
  },
  {
   "cell_type": "code",
   "execution_count": null,
   "id": "84dbaf79-56a4-4b72-b39e-2235d9cc0773",
   "metadata": {},
   "outputs": [],
   "source": [
    "y_pred = predict_new(X_test,w,b)"
   ]
  },
  {
   "cell_type": "code",
   "execution_count": null,
   "id": "240c93ef-60af-4578-bd16-b64ce875f11a",
   "metadata": {},
   "outputs": [],
   "source": [
    "from sklearn.metrics import accuracy_score,precision_score\n",
    "\n",
    "accuracy = accuracy_score(y_test,y_pred)"
   ]
  },
  {
   "cell_type": "code",
   "execution_count": null,
   "id": "5f089547-9859-4723-b34a-b3a9c93ad489",
   "metadata": {},
   "outputs": [],
   "source": [
    "print(accuracy)"
   ]
  },
  {
   "cell_type": "code",
   "execution_count": null,
   "id": "0a3949ba-120f-41d7-b904-5ebd56a018fc",
   "metadata": {},
   "outputs": [],
   "source": [
    "precision = precision_score(y_test,y_pred)"
   ]
  },
  {
   "cell_type": "code",
   "execution_count": null,
   "id": "38e0eb6a-20e0-45fd-9f3a-fd561609a972",
   "metadata": {},
   "outputs": [],
   "source": [
    "print(precision)"
   ]
  },
  {
   "cell_type": "code",
   "execution_count": null,
   "id": "97d71ef9-61e0-4b1a-a8d0-e8f07af84594",
   "metadata": {},
   "outputs": [],
   "source": []
  }
 ],
 "metadata": {
  "kernelspec": {
   "display_name": "Python 3 (ipykernel)",
   "language": "python",
   "name": "python3"
  },
  "language_info": {
   "codemirror_mode": {
    "name": "ipython",
    "version": 3
   },
   "file_extension": ".py",
   "mimetype": "text/x-python",
   "name": "python",
   "nbconvert_exporter": "python",
   "pygments_lexer": "ipython3",
   "version": "3.11.7"
  }
 },
 "nbformat": 4,
 "nbformat_minor": 5
}
