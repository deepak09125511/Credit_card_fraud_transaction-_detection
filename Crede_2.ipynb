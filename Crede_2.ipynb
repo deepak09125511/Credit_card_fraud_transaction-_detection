{
 "cells": [
  {
   "cell_type": "code",
   "execution_count": null,
   "id": "b95146df-85e0-4a1e-a2b8-805dd5f4d60e",
   "metadata": {},
   "outputs": [],
   "source": [
    "import pandas as pd\n",
    "import numpy as np"
   ]
  },
  {
   "cell_type": "code",
   "execution_count": null,
   "id": "66490817-c02e-4424-a44e-3fe73dc546b7",
   "metadata": {},
   "outputs": [],
   "source": [
    "df = pd.read_csv(\"D:\\Downloads\\creditcard.csv.zip\")"
   ]
  },
  {
   "cell_type": "code",
   "execution_count": null,
   "id": "191fccaf-26f5-428d-bef6-5941ab76228e",
   "metadata": {},
   "outputs": [],
   "source": [
    "df.head()"
   ]
  },
  {
   "cell_type": "code",
   "execution_count": null,
   "id": "1416d936-1a42-4c2f-a36f-926717464de0",
   "metadata": {},
   "outputs": [],
   "source": [
    "from sklearn.model_selection import train_test_split"
   ]
  },
  {
   "cell_type": "raw",
   "id": "21c079d0-9299-4751-9066-1fd457affa8a",
   "metadata": {},
   "source": [
    "NORMALIZING AMOUNT AND TIME"
   ]
  },
  {
   "cell_type": "code",
   "execution_count": null,
   "id": "56c416ed-bca2-4e73-90cb-2c6829677992",
   "metadata": {},
   "outputs": [],
   "source": [
    "def z_score_normalization(x):\n",
    "    Mu = np.mean(x,axis = 0)\n",
    "    std = np.std(x,axis = 0)\n",
    "    x_norm = (x-Mu)/(std)\n",
    "\n",
    "    return x_norm"
   ]
  },
  {
   "cell_type": "markdown",
   "id": "fb6be044-0395-4d11-908f-f2c7b6cd6189",
   "metadata": {},
   "source": [
    "Next thing is to handle the imbalance in the data that is in this the data have high no of non-fraudelent cases \n",
    "so inorder to solve this imabalance we nee to solve this \n",
    "1)undersampling\n",
    "Reduce the number of non-fraud cases (Class 0) so it matches the number of fraud cases (Class 1).\n",
    "\n",
    "✏️ Example:\n",
    "From 284,315 non-frauds → randomly pick only 492 to match the 492 frauds.\n",
    "So now you have:\n",
    "\n",
    "492 frauds\n",
    "\n",
    "492 non-frauds\n",
    "2)oversampling\n",
    "Duplicate or synthesize more fraud cases (Class 1) so it matches the number of non-fraud cases.\n",
    "\n",
    "Two types:\n",
    "🔁 a. Random Oversampling\n",
    "Simply duplicate existing fraud samples\n",
    "\n",
    "Easy but may lead to overfitting\n",
    "\n",
    "🧠 b. SMOTE (Synthetic Minority Oversampling Technique)\n",
    "Generates new synthetic fraud samples based on real ones\n",
    "\n",
    "Creates slightly modified “fake” examples to enrich diversity"
   ]
  },
  {
   "cell_type": "code",
   "execution_count": null,
   "id": "0e5f7b3c-bf5f-490e-b3a3-40faa6ac562e",
   "metadata": {},
   "outputs": [],
   "source": [
    "# Going with undersampling"
   ]
  },
  {
   "cell_type": "code",
   "execution_count": null,
   "id": "f80218fd-9607-4f8d-aaab-5028374a69e6",
   "metadata": {},
   "outputs": [],
   "source": [
    "def sigmoid(z):\n",
    "    return 1/(1+np.exp(-z))"
   ]
  },
  {
   "cell_type": "code",
   "execution_count": null,
   "id": "a480ffe6-053d-4d4d-89f0-a9992721f3d6",
   "metadata": {},
   "outputs": [],
   "source": [
    "def compute_cost(x,y,w,b):\n",
    "    x = np.array(x)\n",
    "    y = np.array(y)\n",
    "    m = x.shape[0]\n",
    "    cost = 0 \n",
    "    for i in range(m):\n",
    "        z_i = np.dot(x[i],w)+b\n",
    "        f_wb_i = sigmoid(z_i)\n",
    "        cost+=-y[i]*np.log(f_wb_i) - (1-y[i])*np.log(1-f_wb_i)\n",
    "    cost/=(m)\n",
    "    return cost\n",
    "        "
   ]
  },
  {
   "cell_type": "code",
   "execution_count": null,
   "id": "f22662bf-030c-4c20-8fd1-49c3f79ba9a3",
   "metadata": {
    "scrolled": true
   },
   "outputs": [],
   "source": [
    "w_init = np.zeros(X_train_balanced.shape[1])\n",
    "b_init = 0"
   ]
  },
  {
   "cell_type": "code",
   "execution_count": null,
   "id": "fee932a7-e96c-4078-aabf-3bf7902985da",
   "metadata": {},
   "outputs": [],
   "source": [
    "def compute_gradient_logistic(x,y,w,b):\n",
    "    x = np.array(x)\n",
    "    y = np.array(y)\n",
    "    m,n = x.shape\n",
    "    dj_dw = np.zeros((n,))\n",
    "    dj_db = 0\n",
    "    for i in range(m):\n",
    "        f_wb_i = sigmoid(np.dot(x[i],w)+b)\n",
    "        err_i  = (f_wb_i - y[i])\n",
    "        for j in range(n):\n",
    "            dj_dw+=err_i*x[i,j]\n",
    "\n",
    "        dj_db+=err_i\n",
    "    dj_dw = dj_dw/(m)\n",
    "    dj_db = dj_db/(m)\n",
    "    return dj_dw,dj_db"
   ]
  },
  {
   "cell_type": "code",
   "execution_count": null,
   "id": "d29b7044-1efe-458b-9b50-4353450524ed",
   "metadata": {},
   "outputs": [],
   "source": [
    "import math"
   ]
  },
  {
   "cell_type": "code",
   "execution_count": null,
   "id": "1c0f659c-e8cb-486d-b42d-e7fb99829258",
   "metadata": {},
   "outputs": [],
   "source": [
    "def compute_gradient_descent(x,y,w,b,num_iterations,alpha):\n",
    "\n",
    "    j_history = []\n",
    "    for i in range(num_iterations):\n",
    "        dj_dw,dj_db = compute_gradient_logistic(X_train_balanced,y_train_balanced,w,b)\n",
    "        w = w - alpha*dj_dw\n",
    "        b = b - alpha*dj_db\n",
    "        if i<1000000:\n",
    "             j_history.append(compute_cost(X_train_balanced,y_train_balanced,w,b))\n",
    "        if i% math.ceil(num_iterations / 10) == 0:\n",
    "             print(f\"Iteration {i:4d}: Cost {j_history[-1]}\")\n",
    "    return w,b,j_history"
   ]
  },
  {
   "cell_type": "code",
   "execution_count": null,
   "id": "e27b61cd-f574-46d3-8fb5-04dde9392fe4",
   "metadata": {},
   "outputs": [],
   "source": [
    "def predict(x,w,b):\n",
    "    z = np.dot(x,w)+b\n",
    "    return sigmoid(z)>=0.9"
   ]
  },
  {
   "cell_type": "code",
   "execution_count": null,
   "id": "2dbcd369-fbeb-4891-bca0-5937d80a2aca",
   "metadata": {},
   "outputs": [],
   "source": [
    "import numpy as np\n",
    "import pandas as pd\n",
    "from sklearn.preprocessing import StandardScaler\n",
    "\n",
    "new_df = df.copy()\n",
    "\n",
    "new_df['time_bin'] = pd.cut(new_df['Time'],bins = np.arange(0,new_df['Time'].max()+3600,3600))\n",
    "\n",
    "new_df = new_df[new_df['time_bin'].notna()]\n",
    "\n",
    "avg_amount_per_time_bin = new_df.groupby('time_bin')['Amount'].mean()\n",
    "avg_amount_per_time_bin.name = 'average_amount_per_time_bin'\n",
    "new_df = new_df.join(avg_amount_per_time_bin,on = 'time_bin')\n"
   ]
  },
  {
   "cell_type": "code",
   "execution_count": null,
   "id": "831faafa-b0d7-449f-90df-d39014e77958",
   "metadata": {},
   "outputs": [],
   "source": [
    "new_df = new_df[new_df['average_amount_per_time_bin'].notna()]"
   ]
  },
  {
   "cell_type": "code",
   "execution_count": null,
   "id": "da369220-4759-4391-9beb-a148e6d2e6d7",
   "metadata": {},
   "outputs": [],
   "source": [
    "new_df['Amount_by_Avg'] = new_df['Amount']/new_df['average_amount_per_time_bin']\n",
    "new_df['log_amount_by_avg'] = np.log1p(new_df['Amount_by_Avg'])\n"
   ]
  },
  {
   "cell_type": "code",
   "execution_count": null,
   "id": "ff35785c-e7c5-4ddd-aa62-14a28ca11b87",
   "metadata": {},
   "outputs": [],
   "source": [
    "\n",
    "new_df['log_Amount_by_Avg_scaled'] = z_score_normalization(new_df[['log_amount_by_avg']])"
   ]
  },
  {
   "cell_type": "code",
   "execution_count": null,
   "id": "c285cbcb-3d10-4364-afa7-75755fa26d14",
   "metadata": {
    "scrolled": true
   },
   "outputs": [],
   "source": [
    "new_df"
   ]
  },
  {
   "cell_type": "code",
   "execution_count": null,
   "id": "c01b62c3-4927-412c-aec6-5969502a97bb",
   "metadata": {},
   "outputs": [],
   "source": [
    "new_df.shape"
   ]
  },
  {
   "cell_type": "code",
   "execution_count": null,
   "id": "ae5bf36a-b7fb-479a-9bf7-bea9adbbdcfd",
   "metadata": {},
   "outputs": [],
   "source": [
    "w_init = np.zeros(X_train_balanced.shape[1])\n",
    "b_init = 0"
   ]
  },
  {
   "cell_type": "code",
   "execution_count": null,
   "id": "d41a8a5d-2b7a-4a24-9a52-241aa20e3132",
   "metadata": {},
   "outputs": [],
   "source": [
    "\n",
    "new_df.drop([\"average_amount_per_time_bin\"],axis=1)\n"
   ]
  },
  {
   "cell_type": "code",
   "execution_count": null,
   "id": "a6abf9e2-78a7-49cf-b612-e50d422087c6",
   "metadata": {
    "scrolled": true
   },
   "outputs": [],
   "source": [
    "new_df"
   ]
  },
  {
   "cell_type": "code",
   "execution_count": null,
   "id": "aa8c5dd7-03c2-41be-8c69-f1580015d38a",
   "metadata": {},
   "outputs": [],
   "source": [
    "new_df.shape[0]"
   ]
  },
  {
   "cell_type": "code",
   "execution_count": null,
   "id": "b9e4884c-5bf7-458f-80b0-21c643820119",
   "metadata": {},
   "outputs": [],
   "source": [
    "norm_amount = z_score_normalization(new_df[['Amount']])\n",
    "norm_Time   = z_score_normalization(new_df[['Time']])"
   ]
  },
  {
   "cell_type": "code",
   "execution_count": null,
   "id": "43f75fac-0f86-4b4a-bc13-999e9fde29ab",
   "metadata": {},
   "outputs": [],
   "source": [
    "new_df = new_df.join([norm_amount.rename(columns={'Amount': 'norm_amount'}),\n",
    "                      norm_Time.rename(columns={'Time': 'norm_time'})])"
   ]
  },
  {
   "cell_type": "code",
   "execution_count": null,
   "id": "2d17a6a4-cf88-41d5-b04f-04d3c9e515a0",
   "metadata": {},
   "outputs": [],
   "source": [
    "new_df = new_df.drop(['Time'],axis = 1)"
   ]
  },
  {
   "cell_type": "code",
   "execution_count": null,
   "id": "07521b02-244f-4d0a-bfcb-e93df66172c8",
   "metadata": {},
   "outputs": [],
   "source": [
    "new_df = new_df.drop(['Amount'],axis = 1)"
   ]
  },
  {
   "cell_type": "code",
   "execution_count": null,
   "id": "cd3a1874-90e1-4a0c-9365-1d7533472747",
   "metadata": {},
   "outputs": [],
   "source": [
    "new_df = new_df.drop(['average_amount_per_time_bin'],axis = 1)"
   ]
  },
  {
   "cell_type": "code",
   "execution_count": null,
   "id": "696c375d-0c1c-4326-b025-50de5c39aaed",
   "metadata": {},
   "outputs": [],
   "source": [
    "new_df"
   ]
  },
  {
   "cell_type": "code",
   "execution_count": null,
   "id": "777ca5d5-2b5e-4df3-ac31-05b96e839e8e",
   "metadata": {},
   "outputs": [],
   "source": [
    "x = new_df.drop('Class',axis = 1)\n",
    "Y = new_df[['Class']]"
   ]
  },
  {
   "cell_type": "code",
   "execution_count": null,
   "id": "c87cfa62-471d-430a-b87b-fab3c69dc639",
   "metadata": {},
   "outputs": [],
   "source": [
    "x"
   ]
  },
  {
   "cell_type": "code",
   "execution_count": null,
   "id": "ce63ac4f-c091-4c0d-8a61-b7f2a5eddd39",
   "metadata": {},
   "outputs": [],
   "source": [
    "Y"
   ]
  },
  {
   "cell_type": "code",
   "execution_count": null,
   "id": "c48fb781-8636-4e6f-a6d9-04e850b41fe0",
   "metadata": {},
   "outputs": [],
   "source": [
    "X_train,X_test,y_train,y_test = train_test_split(x,Y,test_size = 0.2,random_state = 42,stratify = Y)"
   ]
  },
  {
   "cell_type": "code",
   "execution_count": null,
   "id": "dff6f626-c13c-49c3-ac33-7c86f9684001",
   "metadata": {},
   "outputs": [],
   "source": [
    "new_df.columns[new_df.isnull().any()]"
   ]
  },
  {
   "cell_type": "code",
   "execution_count": null,
   "id": "8bd43768-8a7a-4e45-a48f-c68939ce9988",
   "metadata": {},
   "outputs": [],
   "source": [
    "train_data_new = pd.concat([X_train,y_train],axis = 1)"
   ]
  },
  {
   "cell_type": "code",
   "execution_count": null,
   "id": "eea89878-5d7b-4838-98fa-6936c1f2b0ab",
   "metadata": {},
   "outputs": [],
   "source": [
    "fraud_case_new = train_data_new[train_data_new[\"Class\"]==1]"
   ]
  },
  {
   "cell_type": "code",
   "execution_count": null,
   "id": "205de4e3-4d9f-4f9e-b162-fe4a53f2bdf2",
   "metadata": {},
   "outputs": [],
   "source": [
    "non_fraud_case_new = train_data_new[train_data_new[\"Class\"]==0]"
   ]
  },
  {
   "cell_type": "code",
   "execution_count": null,
   "id": "f85ce27a-dca6-4945-900f-7332edf997af",
   "metadata": {},
   "outputs": [],
   "source": [
    "fraud_case_new"
   ]
  },
  {
   "cell_type": "code",
   "execution_count": null,
   "id": "2d1c60a9-7e2f-42f3-a877-63254a7ee964",
   "metadata": {},
   "outputs": [],
   "source": [
    "non_fraud_case_new"
   ]
  },
  {
   "cell_type": "code",
   "execution_count": null,
   "id": "3f690b88-d680-48fc-96a0-0d24e36b5914",
   "metadata": {},
   "outputs": [],
   "source": [
    "non_fraud_case_sampled = non_fraud_case_new.sample(n=len(fraud_case_new),random_state=42)"
   ]
  },
  {
   "cell_type": "code",
   "execution_count": null,
   "id": "c4512c2f-6bc3-4253-b952-ba86efd86f1c",
   "metadata": {},
   "outputs": [],
   "source": [
    "count = 0\n",
    "for i in range(len(fraud_case_new[fraud_case_new[\"Class\"]==1])):\n",
    "    count+=1\n",
    "print(count)"
   ]
  },
  {
   "cell_type": "code",
   "execution_count": null,
   "id": "724e3a5a-df42-4e19-bf45-3a5fc7f96e1c",
   "metadata": {},
   "outputs": [],
   "source": [
    "count = 0\n",
    "for i in range(len(non_fraud_case_sampled[non_fraud_case_sampled[\"Class\"]==0])):\n",
    "    count+=1\n",
    "print(count)"
   ]
  },
  {
   "cell_type": "code",
   "execution_count": null,
   "id": "cb5969de-b33a-4f7f-a17c-829ba35ebbe8",
   "metadata": {},
   "outputs": [],
   "source": [
    "balanced_data_new = pd.concat([fraud_case_new,non_fraud_case_sampled]) "
   ]
  },
  {
   "cell_type": "code",
   "execution_count": null,
   "id": "a7d5e608-3ca8-4b68-ad53-31acaf0be723",
   "metadata": {},
   "outputs": [],
   "source": [
    "balanced_data_new"
   ]
  },
  {
   "cell_type": "code",
   "execution_count": null,
   "id": "a3e6adc7-bd83-4fe3-95a9-ba74def4eee5",
   "metadata": {},
   "outputs": [],
   "source": [
    "balanced_data_new = balanced_data_new.sample(frac = 1,random_state = 42).reset_index(drop = True)\n",
    "X_train_balanced_new = balanced_data_new.drop('Class',axis = 1)\n",
    "y_train_balanced_new = balanced_data_new[['Class']]"
   ]
  },
  {
   "cell_type": "code",
   "execution_count": null,
   "id": "2b2222eb-207e-4f58-8409-82cd12f229e5",
   "metadata": {},
   "outputs": [],
   "source": [
    "X_train_balanced_new"
   ]
  },
  {
   "cell_type": "code",
   "execution_count": null,
   "id": "214f0d35-eb55-4ff7-a006-8d069e1b7eff",
   "metadata": {},
   "outputs": [],
   "source": [
    "X_train_balanced_new=X_train_balanced_new.drop('time_bin',axis = 1)"
   ]
  },
  {
   "cell_type": "code",
   "execution_count": null,
   "id": "86abee6a-4668-4561-858b-00fb45ad3fb2",
   "metadata": {},
   "outputs": [],
   "source": [
    "X_train_balanced_new=X_train_balanced_new.drop('Amount_by_Avg',axis = 1)"
   ]
  },
  {
   "cell_type": "code",
   "execution_count": null,
   "id": "2a18657b-fae9-4e37-b504-79a64889f62f",
   "metadata": {},
   "outputs": [],
   "source": [
    "X_train_balanced_new=X_train_balanced_new.drop('log_amount_by_avg',axis = 1)"
   ]
  },
  {
   "cell_type": "code",
   "execution_count": null,
   "id": "e9b512de-522a-484f-9e2a-cefe081764bf",
   "metadata": {},
   "outputs": [],
   "source": [
    "X_train_balanced_new"
   ]
  },
  {
   "cell_type": "code",
   "execution_count": null,
   "id": "9411e847-5264-4578-86f1-30c50e64c1c8",
   "metadata": {},
   "outputs": [],
   "source": [
    "y_train_balanced_new"
   ]
  },
  {
   "cell_type": "code",
   "execution_count": null,
   "id": "8668b1f0-56dc-4d92-8ae5-8cc459f5d0f0",
   "metadata": {},
   "outputs": [],
   "source": [
    "w_init_new = np.zeros(X_train_balanced_new.shape[1])\n",
    "b_init_new = 0"
   ]
  },
  {
   "cell_type": "code",
   "execution_count": null,
   "id": "3454061b-2201-4503-a205-33281ba44627",
   "metadata": {},
   "outputs": [],
   "source": [
    "print(X_train_balanced_new.dtypes)"
   ]
  },
  {
   "cell_type": "code",
   "execution_count": null,
   "id": "946a496f-9726-4f61-b607-51c45f723108",
   "metadata": {},
   "outputs": [],
   "source": [
    "def compute_gradient_descent(x,y,w,b,num_iterations,alpha):\n",
    "\n",
    "    j_history = []\n",
    "    for i in range(num_iterations):\n",
    "        dj_dw,dj_db = compute_gradient_logistic(X_train_balanced_new,y_train_balanced_new,w,b)\n",
    "        w = w - alpha*dj_dw\n",
    "        b = b - alpha*dj_db\n",
    "        if i<1000000:\n",
    "             j_history.append(compute_cost(X_train_balanced_new,y_train_balanced_new,w,b))\n",
    "        if i% math.ceil(num_iterations / 10) == 0:\n",
    "             print(f\"Iteration {i:4d}: Cost {j_history[-1]}\")\n",
    "    return w,b,j_history"
   ]
  },
  {
   "cell_type": "code",
   "execution_count": null,
   "id": "1946fb43-3c20-4668-bd3c-c741bfe81c50",
   "metadata": {},
   "outputs": [],
   "source": [
    "num_iterations = 1000\n",
    "alpha = 0.01\n",
    "w,b,j_history = compute_gradient_descent(X_train_balanced_new,y_train_balanced_new,w_init_new,b_init_new,num_iterations,alpha)"
   ]
  },
  {
   "cell_type": "code",
   "execution_count": null,
   "id": "4e8b6bb1-09a6-4c06-ac9c-4f2656c8b57e",
   "metadata": {},
   "outputs": [],
   "source": [
    "print(w,b)"
   ]
  },
  {
   "cell_type": "code",
   "execution_count": null,
   "id": "768f329e-9460-4b69-92e8-8f6b0c71000b",
   "metadata": {},
   "outputs": [],
   "source": [
    "X_test"
   ]
  },
  {
   "cell_type": "code",
   "execution_count": null,
   "id": "be80d1fe-d9fd-4e8b-8a30-35de62c2489f",
   "metadata": {},
   "outputs": [],
   "source": [
    "X_test = X_test.drop(columns = ['time_bin','Amount_by_Avg','log_amount_by_avg'])\n"
   ]
  },
  {
   "cell_type": "code",
   "execution_count": 230,
   "id": "5d728a6c-ffe1-4d92-9d5c-11f3154a8093",
   "metadata": {},
   "outputs": [
    {
     "data": {
      "text/html": [
       "<div>\n",
       "<style scoped>\n",
       "    .dataframe tbody tr th:only-of-type {\n",
       "        vertical-align: middle;\n",
       "    }\n",
       "\n",
       "    .dataframe tbody tr th {\n",
       "        vertical-align: top;\n",
       "    }\n",
       "\n",
       "    .dataframe thead th {\n",
       "        text-align: right;\n",
       "    }\n",
       "</style>\n",
       "<table border=\"1\" class=\"dataframe\">\n",
       "  <thead>\n",
       "    <tr style=\"text-align: right;\">\n",
       "      <th></th>\n",
       "      <th>V1</th>\n",
       "      <th>V2</th>\n",
       "      <th>V3</th>\n",
       "      <th>V4</th>\n",
       "      <th>V5</th>\n",
       "      <th>V6</th>\n",
       "      <th>V7</th>\n",
       "      <th>V8</th>\n",
       "      <th>V9</th>\n",
       "      <th>V10</th>\n",
       "      <th>...</th>\n",
       "      <th>V22</th>\n",
       "      <th>V23</th>\n",
       "      <th>V24</th>\n",
       "      <th>V25</th>\n",
       "      <th>V26</th>\n",
       "      <th>V27</th>\n",
       "      <th>V28</th>\n",
       "      <th>log_Amount_by_Avg_scaled</th>\n",
       "      <th>norm_amount</th>\n",
       "      <th>norm_time</th>\n",
       "    </tr>\n",
       "  </thead>\n",
       "  <tbody>\n",
       "    <tr>\n",
       "      <th>21621</th>\n",
       "      <td>1.214370</td>\n",
       "      <td>0.090817</td>\n",
       "      <td>0.677072</td>\n",
       "      <td>0.918274</td>\n",
       "      <td>-0.724679</td>\n",
       "      <td>-0.909902</td>\n",
       "      <td>-0.024860</td>\n",
       "      <td>-0.151567</td>\n",
       "      <td>0.459109</td>\n",
       "      <td>-0.189292</td>\n",
       "      <td>...</td>\n",
       "      <td>-0.431827</td>\n",
       "      <td>0.056888</td>\n",
       "      <td>0.740339</td>\n",
       "      <td>0.407431</td>\n",
       "      <td>0.249798</td>\n",
       "      <td>-0.022020</td>\n",
       "      <td>0.015413</td>\n",
       "      <td>-0.728576</td>\n",
       "      <td>-0.337516</td>\n",
       "      <td>-1.327622</td>\n",
       "    </tr>\n",
       "    <tr>\n",
       "      <th>222881</th>\n",
       "      <td>-0.253260</td>\n",
       "      <td>0.675054</td>\n",
       "      <td>0.595508</td>\n",
       "      <td>0.072451</td>\n",
       "      <td>-0.145390</td>\n",
       "      <td>-0.031321</td>\n",
       "      <td>0.943205</td>\n",
       "      <td>-0.256332</td>\n",
       "      <td>0.500910</td>\n",
       "      <td>-0.500424</td>\n",
       "      <td>...</td>\n",
       "      <td>1.510042</td>\n",
       "      <td>-0.307591</td>\n",
       "      <td>0.037256</td>\n",
       "      <td>-0.427784</td>\n",
       "      <td>0.592583</td>\n",
       "      <td>-0.006365</td>\n",
       "      <td>0.181051</td>\n",
       "      <td>0.242416</td>\n",
       "      <td>-0.031424</td>\n",
       "      <td>1.018045</td>\n",
       "    </tr>\n",
       "    <tr>\n",
       "      <th>179908</th>\n",
       "      <td>-0.501615</td>\n",
       "      <td>0.401011</td>\n",
       "      <td>0.772183</td>\n",
       "      <td>-0.768753</td>\n",
       "      <td>0.858744</td>\n",
       "      <td>-0.431940</td>\n",
       "      <td>1.440318</td>\n",
       "      <td>-0.307876</td>\n",
       "      <td>-0.490776</td>\n",
       "      <td>-0.474085</td>\n",
       "      <td>...</td>\n",
       "      <td>-0.385504</td>\n",
       "      <td>-0.055339</td>\n",
       "      <td>-0.328323</td>\n",
       "      <td>-0.092642</td>\n",
       "      <td>0.246250</td>\n",
       "      <td>-0.152176</td>\n",
       "      <td>-0.107283</td>\n",
       "      <td>0.190757</td>\n",
       "      <td>-0.033303</td>\n",
       "      <td>0.620572</td>\n",
       "    </tr>\n",
       "    <tr>\n",
       "      <th>94783</th>\n",
       "      <td>1.268652</td>\n",
       "      <td>-0.773642</td>\n",
       "      <td>1.099085</td>\n",
       "      <td>-0.484241</td>\n",
       "      <td>-1.583179</td>\n",
       "      <td>-0.321417</td>\n",
       "      <td>-1.037697</td>\n",
       "      <td>0.068260</td>\n",
       "      <td>-0.566151</td>\n",
       "      <td>0.713578</td>\n",
       "      <td>...</td>\n",
       "      <td>0.068506</td>\n",
       "      <td>0.008803</td>\n",
       "      <td>0.618262</td>\n",
       "      <td>0.151121</td>\n",
       "      <td>1.132142</td>\n",
       "      <td>-0.020658</td>\n",
       "      <td>0.010562</td>\n",
       "      <td>-0.425407</td>\n",
       "      <td>-0.281183</td>\n",
       "      <td>-0.627228</td>\n",
       "    </tr>\n",
       "    <tr>\n",
       "      <th>192837</th>\n",
       "      <td>-1.284036</td>\n",
       "      <td>1.611890</td>\n",
       "      <td>2.333462</td>\n",
       "      <td>3.886285</td>\n",
       "      <td>-0.415366</td>\n",
       "      <td>2.462808</td>\n",
       "      <td>-0.368639</td>\n",
       "      <td>0.742133</td>\n",
       "      <td>-0.814311</td>\n",
       "      <td>2.436457</td>\n",
       "      <td>...</td>\n",
       "      <td>0.575453</td>\n",
       "      <td>-0.363000</td>\n",
       "      <td>0.066300</td>\n",
       "      <td>0.181497</td>\n",
       "      <td>0.569632</td>\n",
       "      <td>0.788244</td>\n",
       "      <td>0.318371</td>\n",
       "      <td>0.338655</td>\n",
       "      <td>-0.001198</td>\n",
       "      <td>0.738203</td>\n",
       "    </tr>\n",
       "    <tr>\n",
       "      <th>...</th>\n",
       "      <td>...</td>\n",
       "      <td>...</td>\n",
       "      <td>...</td>\n",
       "      <td>...</td>\n",
       "      <td>...</td>\n",
       "      <td>...</td>\n",
       "      <td>...</td>\n",
       "      <td>...</td>\n",
       "      <td>...</td>\n",
       "      <td>...</td>\n",
       "      <td>...</td>\n",
       "      <td>...</td>\n",
       "      <td>...</td>\n",
       "      <td>...</td>\n",
       "      <td>...</td>\n",
       "      <td>...</td>\n",
       "      <td>...</td>\n",
       "      <td>...</td>\n",
       "      <td>...</td>\n",
       "      <td>...</td>\n",
       "      <td>...</td>\n",
       "    </tr>\n",
       "    <tr>\n",
       "      <th>171972</th>\n",
       "      <td>2.151208</td>\n",
       "      <td>-0.801270</td>\n",
       "      <td>-1.464095</td>\n",
       "      <td>-1.083325</td>\n",
       "      <td>-0.311628</td>\n",
       "      <td>-0.623375</td>\n",
       "      <td>-0.460369</td>\n",
       "      <td>-0.168283</td>\n",
       "      <td>-0.799255</td>\n",
       "      <td>1.027911</td>\n",
       "      <td>...</td>\n",
       "      <td>1.343875</td>\n",
       "      <td>0.006736</td>\n",
       "      <td>0.763895</td>\n",
       "      <td>0.166010</td>\n",
       "      <td>0.016955</td>\n",
       "      <td>-0.048080</td>\n",
       "      <td>-0.066349</td>\n",
       "      <td>-0.350058</td>\n",
       "      <td>-0.233206</td>\n",
       "      <td>0.549312</td>\n",
       "    </tr>\n",
       "    <tr>\n",
       "      <th>208350</th>\n",
       "      <td>-1.328215</td>\n",
       "      <td>1.109017</td>\n",
       "      <td>1.620232</td>\n",
       "      <td>-0.376369</td>\n",
       "      <td>-0.391954</td>\n",
       "      <td>-0.335922</td>\n",
       "      <td>0.239156</td>\n",
       "      <td>0.430883</td>\n",
       "      <td>-0.027075</td>\n",
       "      <td>-0.987547</td>\n",
       "      <td>...</td>\n",
       "      <td>-0.412697</td>\n",
       "      <td>-0.231756</td>\n",
       "      <td>-0.021410</td>\n",
       "      <td>0.384435</td>\n",
       "      <td>-0.409657</td>\n",
       "      <td>0.102640</td>\n",
       "      <td>0.030651</td>\n",
       "      <td>-0.269649</td>\n",
       "      <td>-0.213336</td>\n",
       "      <td>0.890075</td>\n",
       "    </tr>\n",
       "    <tr>\n",
       "      <th>138723</th>\n",
       "      <td>1.183463</td>\n",
       "      <td>-0.178754</td>\n",
       "      <td>0.662303</td>\n",
       "      <td>-0.172752</td>\n",
       "      <td>-0.720783</td>\n",
       "      <td>-0.366493</td>\n",
       "      <td>-0.444363</td>\n",
       "      <td>0.156813</td>\n",
       "      <td>0.249733</td>\n",
       "      <td>-0.062468</td>\n",
       "      <td>...</td>\n",
       "      <td>-0.179780</td>\n",
       "      <td>0.150431</td>\n",
       "      <td>0.262954</td>\n",
       "      <td>-0.041665</td>\n",
       "      <td>0.906992</td>\n",
       "      <td>-0.063386</td>\n",
       "      <td>-0.004046</td>\n",
       "      <td>-0.763549</td>\n",
       "      <td>-0.346832</td>\n",
       "      <td>-0.252772</td>\n",
       "    </tr>\n",
       "    <tr>\n",
       "      <th>156844</th>\n",
       "      <td>-0.509159</td>\n",
       "      <td>0.857570</td>\n",
       "      <td>2.404118</td>\n",
       "      <td>-0.119611</td>\n",
       "      <td>0.178800</td>\n",
       "      <td>-0.238802</td>\n",
       "      <td>0.600110</td>\n",
       "      <td>-0.292371</td>\n",
       "      <td>1.406421</td>\n",
       "      <td>-1.173361</td>\n",
       "      <td>...</td>\n",
       "      <td>-0.354668</td>\n",
       "      <td>-0.286081</td>\n",
       "      <td>-0.098939</td>\n",
       "      <td>0.276301</td>\n",
       "      <td>-0.727369</td>\n",
       "      <td>-0.075017</td>\n",
       "      <td>-0.144286</td>\n",
       "      <td>-0.469517</td>\n",
       "      <td>-0.308170</td>\n",
       "      <td>0.299330</td>\n",
       "    </tr>\n",
       "    <tr>\n",
       "      <th>25566</th>\n",
       "      <td>-0.265170</td>\n",
       "      <td>0.953416</td>\n",
       "      <td>0.567059</td>\n",
       "      <td>-0.448285</td>\n",
       "      <td>0.828332</td>\n",
       "      <td>0.306480</td>\n",
       "      <td>0.503610</td>\n",
       "      <td>0.245390</td>\n",
       "      <td>-0.373445</td>\n",
       "      <td>-0.309626</td>\n",
       "      <td>...</td>\n",
       "      <td>-0.983459</td>\n",
       "      <td>-0.225025</td>\n",
       "      <td>-1.480120</td>\n",
       "      <td>0.003913</td>\n",
       "      <td>0.165170</td>\n",
       "      <td>0.232074</td>\n",
       "      <td>0.068359</td>\n",
       "      <td>-0.727189</td>\n",
       "      <td>-0.335277</td>\n",
       "      <td>-1.287674</td>\n",
       "    </tr>\n",
       "  </tbody>\n",
       "</table>\n",
       "<p>56961 rows × 31 columns</p>\n",
       "</div>"
      ],
      "text/plain": [
       "              V1        V2        V3        V4        V5        V6        V7  \\\n",
       "21621   1.214370  0.090817  0.677072  0.918274 -0.724679 -0.909902 -0.024860   \n",
       "222881 -0.253260  0.675054  0.595508  0.072451 -0.145390 -0.031321  0.943205   \n",
       "179908 -0.501615  0.401011  0.772183 -0.768753  0.858744 -0.431940  1.440318   \n",
       "94783   1.268652 -0.773642  1.099085 -0.484241 -1.583179 -0.321417 -1.037697   \n",
       "192837 -1.284036  1.611890  2.333462  3.886285 -0.415366  2.462808 -0.368639   \n",
       "...          ...       ...       ...       ...       ...       ...       ...   \n",
       "171972  2.151208 -0.801270 -1.464095 -1.083325 -0.311628 -0.623375 -0.460369   \n",
       "208350 -1.328215  1.109017  1.620232 -0.376369 -0.391954 -0.335922  0.239156   \n",
       "138723  1.183463 -0.178754  0.662303 -0.172752 -0.720783 -0.366493 -0.444363   \n",
       "156844 -0.509159  0.857570  2.404118 -0.119611  0.178800 -0.238802  0.600110   \n",
       "25566  -0.265170  0.953416  0.567059 -0.448285  0.828332  0.306480  0.503610   \n",
       "\n",
       "              V8        V9       V10  ...       V22       V23       V24  \\\n",
       "21621  -0.151567  0.459109 -0.189292  ... -0.431827  0.056888  0.740339   \n",
       "222881 -0.256332  0.500910 -0.500424  ...  1.510042 -0.307591  0.037256   \n",
       "179908 -0.307876 -0.490776 -0.474085  ... -0.385504 -0.055339 -0.328323   \n",
       "94783   0.068260 -0.566151  0.713578  ...  0.068506  0.008803  0.618262   \n",
       "192837  0.742133 -0.814311  2.436457  ...  0.575453 -0.363000  0.066300   \n",
       "...          ...       ...       ...  ...       ...       ...       ...   \n",
       "171972 -0.168283 -0.799255  1.027911  ...  1.343875  0.006736  0.763895   \n",
       "208350  0.430883 -0.027075 -0.987547  ... -0.412697 -0.231756 -0.021410   \n",
       "138723  0.156813  0.249733 -0.062468  ... -0.179780  0.150431  0.262954   \n",
       "156844 -0.292371  1.406421 -1.173361  ... -0.354668 -0.286081 -0.098939   \n",
       "25566   0.245390 -0.373445 -0.309626  ... -0.983459 -0.225025 -1.480120   \n",
       "\n",
       "             V25       V26       V27       V28  log_Amount_by_Avg_scaled  \\\n",
       "21621   0.407431  0.249798 -0.022020  0.015413                 -0.728576   \n",
       "222881 -0.427784  0.592583 -0.006365  0.181051                  0.242416   \n",
       "179908 -0.092642  0.246250 -0.152176 -0.107283                  0.190757   \n",
       "94783   0.151121  1.132142 -0.020658  0.010562                 -0.425407   \n",
       "192837  0.181497  0.569632  0.788244  0.318371                  0.338655   \n",
       "...          ...       ...       ...       ...                       ...   \n",
       "171972  0.166010  0.016955 -0.048080 -0.066349                 -0.350058   \n",
       "208350  0.384435 -0.409657  0.102640  0.030651                 -0.269649   \n",
       "138723 -0.041665  0.906992 -0.063386 -0.004046                 -0.763549   \n",
       "156844  0.276301 -0.727369 -0.075017 -0.144286                 -0.469517   \n",
       "25566   0.003913  0.165170  0.232074  0.068359                 -0.727189   \n",
       "\n",
       "        norm_amount  norm_time  \n",
       "21621     -0.337516  -1.327622  \n",
       "222881    -0.031424   1.018045  \n",
       "179908    -0.033303   0.620572  \n",
       "94783     -0.281183  -0.627228  \n",
       "192837    -0.001198   0.738203  \n",
       "...             ...        ...  \n",
       "171972    -0.233206   0.549312  \n",
       "208350    -0.213336   0.890075  \n",
       "138723    -0.346832  -0.252772  \n",
       "156844    -0.308170   0.299330  \n",
       "25566     -0.335277  -1.287674  \n",
       "\n",
       "[56961 rows x 31 columns]"
      ]
     },
     "execution_count": 230,
     "metadata": {},
     "output_type": "execute_result"
    }
   ],
   "source": [
    "X_test"
   ]
  },
  {
   "cell_type": "code",
   "execution_count": null,
   "id": "366ac9d5-90a7-402f-964f-62014bc145aa",
   "metadata": {},
   "outputs": [],
   "source": [
    "def predict_new(x,w,b):\n",
    "    z = np.dot(x,w)+b\n",
    "    return sigmoid(z)>=0.9"
   ]
  },
  {
   "cell_type": "code",
   "execution_count": null,
   "id": "84dbaf79-56a4-4b72-b39e-2235d9cc0773",
   "metadata": {},
   "outputs": [],
   "source": [
    "y_pred = predict_new(X_test,w,b)"
   ]
  },
  {
   "cell_type": "code",
   "execution_count": 231,
   "id": "b13ed503-ba40-4542-b3af-c0c629970686",
   "metadata": {},
   "outputs": [
    {
     "data": {
      "text/plain": [
       "array([False, False, False, ..., False, False, False])"
      ]
     },
     "execution_count": 231,
     "metadata": {},
     "output_type": "execute_result"
    }
   ],
   "source": [
    "y_pred\n"
   ]
  },
  {
   "cell_type": "code",
   "execution_count": null,
   "id": "240c93ef-60af-4578-bd16-b64ce875f11a",
   "metadata": {},
   "outputs": [],
   "source": [
    "from sklearn.metrics import accuracy_score,precision_score\n",
    "\n",
    "accuracy = accuracy_score(y_test,y_pred)"
   ]
  },
  {
   "cell_type": "code",
   "execution_count": null,
   "id": "5f089547-9859-4723-b34a-b3a9c93ad489",
   "metadata": {},
   "outputs": [],
   "source": [
    "print(accuracy)"
   ]
  },
  {
   "cell_type": "code",
   "execution_count": null,
   "id": "0a3949ba-120f-41d7-b904-5ebd56a018fc",
   "metadata": {},
   "outputs": [],
   "source": [
    "precision = precision_score(y_test,y_pred)"
   ]
  },
  {
   "cell_type": "code",
   "execution_count": null,
   "id": "38e0eb6a-20e0-45fd-9f3a-fd561609a972",
   "metadata": {},
   "outputs": [],
   "source": [
    "print(precision)"
   ]
  },
  {
   "cell_type": "code",
   "execution_count": 229,
   "id": "97d71ef9-61e0-4b1a-a8d0-e8f07af84594",
   "metadata": {},
   "outputs": [
    {
     "data": {
      "text/plain": [
       "['fraud_model.pkl']"
      ]
     },
     "execution_count": 229,
     "metadata": {},
     "output_type": "execute_result"
    }
   ],
   "source": [
    "import joblib\n",
    "\n",
    "model_data = {\n",
    "    'weights':w,\n",
    "    'bias':b\n",
    "}\n",
    "\n",
    "joblib.dump(model_data,'fraud_model.pkl')"
   ]
  },
  {
   "cell_type": "code",
   "execution_count": null,
   "id": "7d1e5f3b-fb93-4832-add5-00a3f8925286",
   "metadata": {},
   "outputs": [],
   "source": []
  }
 ],
 "metadata": {
  "kernelspec": {
   "display_name": "Python 3 (ipykernel)",
   "language": "python",
   "name": "python3"
  },
  "language_info": {
   "codemirror_mode": {
    "name": "ipython",
    "version": 3
   },
   "file_extension": ".py",
   "mimetype": "text/x-python",
   "name": "python",
   "nbconvert_exporter": "python",
   "pygments_lexer": "ipython3",
   "version": "3.11.7"
  }
 },
 "nbformat": 4,
 "nbformat_minor": 5
}
